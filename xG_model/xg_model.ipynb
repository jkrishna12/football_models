{
 "cells": [
  {
   "cell_type": "code",
   "execution_count": 1,
   "id": "ea0df2f3",
   "metadata": {},
   "outputs": [],
   "source": [
    "# importing necessary libraries\n",
    "import pandas as pd\n",
    "import numpy as np\n",
    "import json\n",
    "\n",
    "# plotting\n",
    "import matplotlib.pyplot as plt\n",
    "from mplsoccer import VerticalPitch\n",
    "\n",
    "# statistical fitting of models\n",
    "import statsmodels.api as sm\n",
    "import statsmodels.formula.api as smf\n",
    "\n",
    "#opening data\n",
    "import os\n",
    "import pathlib\n",
    "import warnings\n",
    "\n",
    "pd.options.mode.chained_assignment = None\n",
    "warnings.filterwarnings('ignore')"
   ]
  },
  {
   "cell_type": "code",
   "execution_count": 2,
   "id": "2e88100a",
   "metadata": {},
   "outputs": [
    {
     "data": {
      "text/html": [
       "<div>\n",
       "<style scoped>\n",
       "    .dataframe tbody tr th:only-of-type {\n",
       "        vertical-align: middle;\n",
       "    }\n",
       "\n",
       "    .dataframe tbody tr th {\n",
       "        vertical-align: top;\n",
       "    }\n",
       "\n",
       "    .dataframe thead th {\n",
       "        text-align: right;\n",
       "    }\n",
       "</style>\n",
       "<table border=\"1\" class=\"dataframe\">\n",
       "  <thead>\n",
       "    <tr style=\"text-align: right;\">\n",
       "      <th></th>\n",
       "      <th>eventId</th>\n",
       "      <th>subEventName</th>\n",
       "      <th>tags</th>\n",
       "      <th>playerId</th>\n",
       "      <th>positions</th>\n",
       "      <th>matchId</th>\n",
       "      <th>eventName</th>\n",
       "      <th>teamId</th>\n",
       "      <th>matchPeriod</th>\n",
       "      <th>eventSec</th>\n",
       "      <th>subEventId</th>\n",
       "      <th>id</th>\n",
       "    </tr>\n",
       "  </thead>\n",
       "  <tbody>\n",
       "    <tr>\n",
       "      <th>0</th>\n",
       "      <td>8</td>\n",
       "      <td>Simple pass</td>\n",
       "      <td>[{'id': 1801}]</td>\n",
       "      <td>25413</td>\n",
       "      <td>[{'y': 49, 'x': 49}, {'y': 78, 'x': 31}]</td>\n",
       "      <td>2499719</td>\n",
       "      <td>Pass</td>\n",
       "      <td>1609</td>\n",
       "      <td>1H</td>\n",
       "      <td>2.758649</td>\n",
       "      <td>85</td>\n",
       "      <td>177959171</td>\n",
       "    </tr>\n",
       "    <tr>\n",
       "      <th>1</th>\n",
       "      <td>8</td>\n",
       "      <td>High pass</td>\n",
       "      <td>[{'id': 1801}]</td>\n",
       "      <td>370224</td>\n",
       "      <td>[{'y': 78, 'x': 31}, {'y': 75, 'x': 51}]</td>\n",
       "      <td>2499719</td>\n",
       "      <td>Pass</td>\n",
       "      <td>1609</td>\n",
       "      <td>1H</td>\n",
       "      <td>4.946850</td>\n",
       "      <td>83</td>\n",
       "      <td>177959172</td>\n",
       "    </tr>\n",
       "    <tr>\n",
       "      <th>2</th>\n",
       "      <td>8</td>\n",
       "      <td>Head pass</td>\n",
       "      <td>[{'id': 1801}]</td>\n",
       "      <td>3319</td>\n",
       "      <td>[{'y': 75, 'x': 51}, {'y': 71, 'x': 35}]</td>\n",
       "      <td>2499719</td>\n",
       "      <td>Pass</td>\n",
       "      <td>1609</td>\n",
       "      <td>1H</td>\n",
       "      <td>6.542188</td>\n",
       "      <td>82</td>\n",
       "      <td>177959173</td>\n",
       "    </tr>\n",
       "    <tr>\n",
       "      <th>3</th>\n",
       "      <td>8</td>\n",
       "      <td>Head pass</td>\n",
       "      <td>[{'id': 1801}]</td>\n",
       "      <td>120339</td>\n",
       "      <td>[{'y': 71, 'x': 35}, {'y': 95, 'x': 41}]</td>\n",
       "      <td>2499719</td>\n",
       "      <td>Pass</td>\n",
       "      <td>1609</td>\n",
       "      <td>1H</td>\n",
       "      <td>8.143395</td>\n",
       "      <td>82</td>\n",
       "      <td>177959174</td>\n",
       "    </tr>\n",
       "    <tr>\n",
       "      <th>4</th>\n",
       "      <td>8</td>\n",
       "      <td>Simple pass</td>\n",
       "      <td>[{'id': 1801}]</td>\n",
       "      <td>167145</td>\n",
       "      <td>[{'y': 95, 'x': 41}, {'y': 88, 'x': 72}]</td>\n",
       "      <td>2499719</td>\n",
       "      <td>Pass</td>\n",
       "      <td>1609</td>\n",
       "      <td>1H</td>\n",
       "      <td>10.302366</td>\n",
       "      <td>85</td>\n",
       "      <td>177959175</td>\n",
       "    </tr>\n",
       "  </tbody>\n",
       "</table>\n",
       "</div>"
      ],
      "text/plain": [
       "   eventId subEventName            tags  playerId  \\\n",
       "0        8  Simple pass  [{'id': 1801}]     25413   \n",
       "1        8    High pass  [{'id': 1801}]    370224   \n",
       "2        8    Head pass  [{'id': 1801}]      3319   \n",
       "3        8    Head pass  [{'id': 1801}]    120339   \n",
       "4        8  Simple pass  [{'id': 1801}]    167145   \n",
       "\n",
       "                                  positions  matchId eventName  teamId  \\\n",
       "0  [{'y': 49, 'x': 49}, {'y': 78, 'x': 31}]  2499719      Pass    1609   \n",
       "1  [{'y': 78, 'x': 31}, {'y': 75, 'x': 51}]  2499719      Pass    1609   \n",
       "2  [{'y': 75, 'x': 51}, {'y': 71, 'x': 35}]  2499719      Pass    1609   \n",
       "3  [{'y': 71, 'x': 35}, {'y': 95, 'x': 41}]  2499719      Pass    1609   \n",
       "4  [{'y': 95, 'x': 41}, {'y': 88, 'x': 72}]  2499719      Pass    1609   \n",
       "\n",
       "  matchPeriod   eventSec subEventId         id  \n",
       "0          1H   2.758649         85  177959171  \n",
       "1          1H   4.946850         83  177959172  \n",
       "2          1H   6.542188         82  177959173  \n",
       "3          1H   8.143395         82  177959174  \n",
       "4          1H  10.302366         85  177959175  "
      ]
     },
     "execution_count": 2,
     "metadata": {},
     "output_type": "execute_result"
    }
   ],
   "source": [
    "path = os.path.join(str(pathlib.Path().resolve()), 'Data', 'Wyscout','events', 'events_England.json')\n",
    "\n",
    "with open(path) as f:\n",
    "    data = json.load(f)\n",
    "\n",
    "train = pd.DataFrame(data)\n",
    "train.head()"
   ]
  },
  {
   "cell_type": "code",
   "execution_count": 3,
   "id": "aa10ac9c",
   "metadata": {},
   "outputs": [],
   "source": [
    "shots = train.loc[train['subEventName'] == 'Shot']"
   ]
  },
  {
   "cell_type": "code",
   "execution_count": 4,
   "id": "f30db2eb",
   "metadata": {},
   "outputs": [
    {
     "data": {
      "text/html": [
       "<div>\n",
       "<style scoped>\n",
       "    .dataframe tbody tr th:only-of-type {\n",
       "        vertical-align: middle;\n",
       "    }\n",
       "\n",
       "    .dataframe tbody tr th {\n",
       "        vertical-align: top;\n",
       "    }\n",
       "\n",
       "    .dataframe thead th {\n",
       "        text-align: right;\n",
       "    }\n",
       "</style>\n",
       "<table border=\"1\" class=\"dataframe\">\n",
       "  <thead>\n",
       "    <tr style=\"text-align: right;\">\n",
       "      <th></th>\n",
       "      <th>eventId</th>\n",
       "      <th>subEventName</th>\n",
       "      <th>tags</th>\n",
       "      <th>playerId</th>\n",
       "      <th>positions</th>\n",
       "      <th>matchId</th>\n",
       "      <th>eventName</th>\n",
       "      <th>teamId</th>\n",
       "      <th>matchPeriod</th>\n",
       "      <th>eventSec</th>\n",
       "      <th>subEventId</th>\n",
       "      <th>id</th>\n",
       "    </tr>\n",
       "  </thead>\n",
       "  <tbody>\n",
       "    <tr>\n",
       "      <th>46</th>\n",
       "      <td>10</td>\n",
       "      <td>Shot</td>\n",
       "      <td>[{'id': 101}, {'id': 402}, {'id': 201}, {'id':...</td>\n",
       "      <td>25413</td>\n",
       "      <td>[{'y': 41, 'x': 88}, {'y': 0, 'x': 0}]</td>\n",
       "      <td>2499719</td>\n",
       "      <td>Shot</td>\n",
       "      <td>1609</td>\n",
       "      <td>1H</td>\n",
       "      <td>94.595788</td>\n",
       "      <td>100</td>\n",
       "      <td>177959212</td>\n",
       "    </tr>\n",
       "    <tr>\n",
       "      <th>62</th>\n",
       "      <td>10</td>\n",
       "      <td>Shot</td>\n",
       "      <td>[{'id': 401}, {'id': 201}, {'id': 1211}, {'id'...</td>\n",
       "      <td>26150</td>\n",
       "      <td>[{'y': 52, 'x': 85}, {'y': 100, 'x': 100}]</td>\n",
       "      <td>2499719</td>\n",
       "      <td>Shot</td>\n",
       "      <td>1631</td>\n",
       "      <td>1H</td>\n",
       "      <td>179.854785</td>\n",
       "      <td>100</td>\n",
       "      <td>177959247</td>\n",
       "    </tr>\n",
       "    <tr>\n",
       "      <th>91</th>\n",
       "      <td>10</td>\n",
       "      <td>Shot</td>\n",
       "      <td>[{'id': 101}, {'id': 403}, {'id': 201}, {'id':...</td>\n",
       "      <td>14763</td>\n",
       "      <td>[{'y': 52, 'x': 96}, {'y': 100, 'x': 100}]</td>\n",
       "      <td>2499719</td>\n",
       "      <td>Shot</td>\n",
       "      <td>1631</td>\n",
       "      <td>1H</td>\n",
       "      <td>254.745027</td>\n",
       "      <td>100</td>\n",
       "      <td>177959280</td>\n",
       "    </tr>\n",
       "    <tr>\n",
       "      <th>128</th>\n",
       "      <td>10</td>\n",
       "      <td>Shot</td>\n",
       "      <td>[{'id': 401}, {'id': 201}, {'id': 1215}, {'id'...</td>\n",
       "      <td>7868</td>\n",
       "      <td>[{'y': 33, 'x': 81}, {'y': 0, 'x': 0}]</td>\n",
       "      <td>2499719</td>\n",
       "      <td>Shot</td>\n",
       "      <td>1609</td>\n",
       "      <td>1H</td>\n",
       "      <td>425.824035</td>\n",
       "      <td>100</td>\n",
       "      <td>177959289</td>\n",
       "    </tr>\n",
       "    <tr>\n",
       "      <th>249</th>\n",
       "      <td>10</td>\n",
       "      <td>Shot</td>\n",
       "      <td>[{'id': 402}, {'id': 201}, {'id': 1205}, {'id'...</td>\n",
       "      <td>7868</td>\n",
       "      <td>[{'y': 30, 'x': 75}, {'y': 0, 'x': 0}]</td>\n",
       "      <td>2499719</td>\n",
       "      <td>Shot</td>\n",
       "      <td>1609</td>\n",
       "      <td>1H</td>\n",
       "      <td>815.462015</td>\n",
       "      <td>100</td>\n",
       "      <td>177959429</td>\n",
       "    </tr>\n",
       "  </tbody>\n",
       "</table>\n",
       "</div>"
      ],
      "text/plain": [
       "     eventId subEventName                                               tags  \\\n",
       "46        10         Shot  [{'id': 101}, {'id': 402}, {'id': 201}, {'id':...   \n",
       "62        10         Shot  [{'id': 401}, {'id': 201}, {'id': 1211}, {'id'...   \n",
       "91        10         Shot  [{'id': 101}, {'id': 403}, {'id': 201}, {'id':...   \n",
       "128       10         Shot  [{'id': 401}, {'id': 201}, {'id': 1215}, {'id'...   \n",
       "249       10         Shot  [{'id': 402}, {'id': 201}, {'id': 1205}, {'id'...   \n",
       "\n",
       "     playerId                                   positions  matchId eventName  \\\n",
       "46      25413      [{'y': 41, 'x': 88}, {'y': 0, 'x': 0}]  2499719      Shot   \n",
       "62      26150  [{'y': 52, 'x': 85}, {'y': 100, 'x': 100}]  2499719      Shot   \n",
       "91      14763  [{'y': 52, 'x': 96}, {'y': 100, 'x': 100}]  2499719      Shot   \n",
       "128      7868      [{'y': 33, 'x': 81}, {'y': 0, 'x': 0}]  2499719      Shot   \n",
       "249      7868      [{'y': 30, 'x': 75}, {'y': 0, 'x': 0}]  2499719      Shot   \n",
       "\n",
       "     teamId matchPeriod    eventSec subEventId         id  \n",
       "46     1609          1H   94.595788        100  177959212  \n",
       "62     1631          1H  179.854785        100  177959247  \n",
       "91     1631          1H  254.745027        100  177959280  \n",
       "128    1609          1H  425.824035        100  177959289  \n",
       "249    1609          1H  815.462015        100  177959429  "
      ]
     },
     "execution_count": 4,
     "metadata": {},
     "output_type": "execute_result"
    }
   ],
   "source": [
    "shots.head()"
   ]
  },
  {
   "cell_type": "code",
   "execution_count": 5,
   "id": "876da0af",
   "metadata": {},
   "outputs": [],
   "source": [
    "#get shot coordinates as separate columns\n",
    "shots[\"X\"] = shots.positions.apply(lambda cell: (100 - cell[0]['x']) * 105/100)\n",
    "shots[\"Y\"] = shots.positions.apply(lambda cell: cell[0]['y'] * 68/100)\n",
    "shots[\"C\"] = shots.positions.apply(lambda cell: abs(cell[0]['y'] - 50) * 68/100)\n",
    "\n",
    "#calculate distance and angle\n",
    "shots[\"Distance\"] = np.sqrt(shots[\"X\"]**2 + shots[\"C\"]**2)\n",
    "shots[\"Angle\"] = np.where(np.arctan(7.32 * shots[\"X\"] / (shots[\"X\"]**2 + shots[\"C\"]**2 - (7.32/2)**2)) > 0, np.arctan(7.32 * shots[\"X\"] /(shots[\"X\"]**2 + shots[\"C\"]**2 - (7.32/2)**2)), np.arctan(7.32 * shots[\"X\"] /(shots[\"X\"]**2 + shots[\"C\"]**2 - (7.32/2)**2)) + np.pi)\n",
    "\n",
    "#if you ever encounter problems (like you have seen that model treats 0 as 1 and 1 as 0) while modelling - change the dependant variable to object\n",
    "shots[\"Goal\"] = shots.tags.apply(lambda x: 1 if {'id':101} in x else 0).astype(object)"
   ]
  },
  {
   "cell_type": "markdown",
   "id": "87f9c5e4",
   "metadata": {},
   "source": [
    "## Plot Shot Location"
   ]
  },
  {
   "cell_type": "code",
   "execution_count": 6,
   "id": "0e7abec0",
   "metadata": {},
   "outputs": [
    {
     "data": {
      "image/png": "[encoded data removed]",
      "text/plain": [
       "<Figure size 771.174x648 with 4 Axes>"
      ]
     },
     "metadata": {
      "needs_background": "light"
     },
     "output_type": "display_data"
    }
   ],
   "source": [
    "#plot pitch\n",
    "pitch = VerticalPitch(line_color='black', half = True, pitch_type='custom', pitch_length=105, pitch_width=68, line_zorder = 2)\n",
    "fig, ax = pitch.grid(grid_height=0.9, title_height=0.06, axis=False,\n",
    "                     endnote_height=0.04, title_space=0, endnote_space=0)\n",
    "\n",
    "#subtracting x from 105 but not y from 68 because of inverted Wyscout axis\n",
    "#calculate number of shots in each bin\n",
    "bin_statistic_shots = pitch.bin_statistic(105 - shots.X, shots.Y, bins=50)\n",
    "\n",
    "#make heatmap\n",
    "pcm = pitch.heatmap(bin_statistic_shots, ax=ax[\"pitch\"], cmap='Reds', edgecolor='white', linewidth = 0.01)\n",
    "\n",
    "#make legend\n",
    "ax_cbar = fig.add_axes((0.95, 0.05, 0.04, 0.8))\n",
    "cbar = plt.colorbar(pcm, cax=ax_cbar)\n",
    "fig.suptitle('Shot map - 2017/2018 Premier League Season' , fontsize = 30)\n",
    "plt.show()"
   ]
  },
  {
   "cell_type": "markdown",
   "id": "9a9e472e",
   "metadata": {},
   "source": [
    "## Plot Goal Location"
   ]
  },
  {
   "cell_type": "code",
   "execution_count": 7,
   "id": "35584e35",
   "metadata": {},
   "outputs": [
    {
     "data": {
      "image/png": "[encoded data removed]",
      "text/plain": [
       "<Figure size 771.174x648 with 4 Axes>"
      ]
     },
     "metadata": {
      "needs_background": "light"
     },
     "output_type": "display_data"
    }
   ],
   "source": [
    "#take only goals\n",
    "goals = shots.loc[shots[\"Goal\"] == 1]\n",
    "\n",
    "#plot pitch\n",
    "pitch = VerticalPitch(line_color='black', half = True, pitch_type='custom', pitch_length=105, pitch_width=68, line_zorder = 2)\n",
    "fig, ax = pitch.grid(grid_height=0.9, title_height=0.06, axis=False,\n",
    "                     endnote_height=0.04, title_space=0, endnote_space=0)\n",
    "\n",
    "#calculate number of goals in each bin\n",
    "bin_statistic_goals = pitch.bin_statistic(105 - goals.X, goals.Y, bins=50)\n",
    "\n",
    "#plot heatmap\n",
    "pcm = pitch.heatmap(bin_statistic_goals, ax=ax[\"pitch\"], cmap='Reds', edgecolor='white')\n",
    "\n",
    "#make legend\n",
    "ax_cbar = fig.add_axes((0.95, 0.05, 0.04, 0.8))\n",
    "cbar = plt.colorbar(pcm, cax=ax_cbar)\n",
    "fig.suptitle('Goal map - 2017/2018 Premier League Season' , fontsize = 30)\n",
    "plt.show()"
   ]
  },
  {
   "cell_type": "markdown",
   "id": "5fa0f777",
   "metadata": {},
   "source": [
    "## Plotting the probability of scoring a goal given the location"
   ]
  },
  {
   "cell_type": "code",
   "execution_count": 8,
   "id": "74675070",
   "metadata": {},
   "outputs": [
    {
     "data": {
      "image/png": "[encoded data removed]",
      "text/plain": [
       "<Figure size 771.174x648 with 4 Axes>"
      ]
     },
     "metadata": {
      "needs_background": "light"
     },
     "output_type": "display_data"
    }
   ],
   "source": [
    "#plot pitch\n",
    "pitch = VerticalPitch(line_color='black', half = True, pitch_type='custom', pitch_length=105, pitch_width=68, line_zorder = 2)\n",
    "fig, ax = pitch.grid(grid_height=0.9, title_height=0.06, axis=False,\n",
    "                     endnote_height=0.04, title_space=0, endnote_space=0)\n",
    "bin_statistic = pitch.bin_statistic(105 - shots.X, shots.Y, bins = 50)\n",
    "\n",
    "#normalize number of goals by number of shots\n",
    "bin_statistic[\"statistic\"] = bin_statistic_goals[\"statistic\"]/bin_statistic[\"statistic\"]\n",
    "\n",
    "#plot heatmap\n",
    "pcm = pitch.heatmap(bin_statistic, ax=ax[\"pitch\"], cmap='Reds', edgecolor='white', vmin = 0, vmax = 0.6)\n",
    "\n",
    "#make legend\n",
    "ax_cbar = fig.add_axes((0.95, 0.05, 0.04, 0.8))\n",
    "cbar = plt.colorbar(pcm, cax=ax_cbar)\n",
    "fig.suptitle('Probability of scoring' , fontsize = 30)\n",
    "plt.show()"
   ]
  },
  {
   "cell_type": "markdown",
   "id": "ee34c690",
   "metadata": {},
   "source": [
    "## Plotting a logistic curve"
   ]
  },
  {
   "cell_type": "code",
   "execution_count": 9,
   "id": "c298a96a",
   "metadata": {},
   "outputs": [
    {
     "data": {
      "image/png": "[encoded data removed]",
      "text/plain": [
       "<Figure size 432x288 with 1 Axes>"
      ]
     },
     "metadata": {
      "needs_background": "light"
     },
     "output_type": "display_data"
    }
   ],
   "source": [
    "b = [3, -3]\n",
    "x = np.arange(5, step=0.1)\n",
    "y = 1/(1+np.exp(b[0]+b[1]*x))\n",
    "fig,ax = plt.subplots()\n",
    "plt.ylim((-0.05,1.05))\n",
    "plt.xlim((0,5))\n",
    "ax.set_ylabel('y')\n",
    "ax.set_xlabel(\"x\")\n",
    "ax.plot(x, y, linestyle='solid', color='black')\n",
    "ax.spines['top'].set_visible(False)\n",
    "ax.spines['right'].set_visible(False)\n",
    "plt.show()"
   ]
  },
  {
   "cell_type": "markdown",
   "id": "d6a4a2ac",
   "metadata": {},
   "source": [
    "## Investigating the relationship between probability of scoring goals and angle"
   ]
  },
  {
   "cell_type": "code",
   "execution_count": 10,
   "id": "ba2f3dfa",
   "metadata": {},
   "outputs": [
    {
     "data": {
      "image/png": "[encoded data removed]",
      "text/plain": [
       "<Figure size 432x288 with 1 Axes>"
      ]
     },
     "metadata": {
      "needs_background": "light"
     },
     "output_type": "display_data"
    }
   ],
   "source": [
    "#number of shots from angle\n",
    "shotcount_dist = np.histogram(shots['Angle']*180/np.pi, bins=40, range=[0, 150])\n",
    "\n",
    "#number of goals from angle\n",
    "goalcount_dist = np.histogram(goals['Angle']*180/np.pi, bins=40, range=[0, 150])\n",
    "np.seterr(divide='ignore', invalid='ignore')\n",
    "\n",
    "#probability of scoring goal\n",
    "prob_goal = np.divide(goalcount_dist[0], shotcount_dist[0])\n",
    "angle = shotcount_dist[1]\n",
    "midangle = (angle[:-1] + angle[1:])/2 # finds the midangle of each bin\n",
    "\n",
    "#make plot\n",
    "fig,ax = plt.subplots()\n",
    "ax.plot(midangle, prob_goal, linestyle='none', marker= '.', markersize= 12, color='black')\n",
    "ax.set_ylabel('Probability chance scored')\n",
    "ax.set_xlabel(\"Shot angle (degrees)\")\n",
    "ax.spines['top'].set_visible(False)\n",
    "ax.spines['right'].set_visible(False)\n",
    "plt.show()"
   ]
  },
  {
   "cell_type": "markdown",
   "id": "c1bf6029",
   "metadata": {},
   "source": [
    "## Fitting logistic regression with random coefficients"
   ]
  },
  {
   "cell_type": "code",
   "execution_count": 11,
   "id": "8c5e7026",
   "metadata": {},
   "outputs": [
    {
     "data": {
      "image/png": "[encoded data removed]",
      "text/plain": [
       "<Figure size 432x288 with 1 Axes>"
      ]
     },
     "metadata": {
      "needs_background": "light"
     },
     "output_type": "display_data"
    }
   ],
   "source": [
    "fig, ax = plt.subplots()\n",
    "b = [3, -3]\n",
    "x = np.arange(150,step=0.1)\n",
    "y = 1/(1+np.exp(b[0]+b[1]*x*np.pi/180))\n",
    "#plot line\n",
    "ax.plot(midangle, prob_goal, linestyle='none', marker= '.', markersize= 12, color='black')\n",
    "#plot logistic function\n",
    "ax.plot(x, y, linestyle='solid', color='black')\n",
    "plt.show()"
   ]
  },
  {
   "cell_type": "markdown",
   "id": "7a073046",
   "metadata": {},
   "source": [
    "## Calculating log-likelihood"
   ]
  },
  {
   "cell_type": "markdown",
   "id": "0ee9f396",
   "metadata": {},
   "source": [
    "log likelihood a way to measure how well it fits to the data. More negative the number better the fit"
   ]
  },
  {
   "cell_type": "code",
   "execution_count": 12,
   "id": "91997745",
   "metadata": {},
   "outputs": [
    {
     "data": {
      "text/html": [
       "<div>\n",
       "<style scoped>\n",
       "    .dataframe tbody tr th:only-of-type {\n",
       "        vertical-align: middle;\n",
       "    }\n",
       "\n",
       "    .dataframe tbody tr th {\n",
       "        vertical-align: top;\n",
       "    }\n",
       "\n",
       "    .dataframe thead th {\n",
       "        text-align: right;\n",
       "    }\n",
       "</style>\n",
       "<table border=\"1\" class=\"dataframe\">\n",
       "  <thead>\n",
       "    <tr style=\"text-align: right;\">\n",
       "      <th></th>\n",
       "      <th>eventId</th>\n",
       "      <th>subEventName</th>\n",
       "      <th>tags</th>\n",
       "      <th>playerId</th>\n",
       "      <th>positions</th>\n",
       "      <th>matchId</th>\n",
       "      <th>eventName</th>\n",
       "      <th>teamId</th>\n",
       "      <th>matchPeriod</th>\n",
       "      <th>eventSec</th>\n",
       "      <th>subEventId</th>\n",
       "      <th>id</th>\n",
       "      <th>X</th>\n",
       "      <th>Y</th>\n",
       "      <th>C</th>\n",
       "      <th>Distance</th>\n",
       "      <th>Angle</th>\n",
       "      <th>Goal</th>\n",
       "      <th>xG</th>\n",
       "    </tr>\n",
       "  </thead>\n",
       "  <tbody>\n",
       "    <tr>\n",
       "      <th>46</th>\n",
       "      <td>10</td>\n",
       "      <td>Shot</td>\n",
       "      <td>[{'id': 101}, {'id': 402}, {'id': 201}, {'id':...</td>\n",
       "      <td>25413</td>\n",
       "      <td>[{'y': 41, 'x': 88}, {'y': 0, 'x': 0}]</td>\n",
       "      <td>2499719</td>\n",
       "      <td>Shot</td>\n",
       "      <td>1609</td>\n",
       "      <td>1H</td>\n",
       "      <td>94.595788</td>\n",
       "      <td>100</td>\n",
       "      <td>177959212</td>\n",
       "      <td>12.60</td>\n",
       "      <td>27.88</td>\n",
       "      <td>6.12</td>\n",
       "      <td>14.007655</td>\n",
       "      <td>0.467241</td>\n",
       "      <td>1</td>\n",
       "      <td>0.168222</td>\n",
       "    </tr>\n",
       "    <tr>\n",
       "      <th>62</th>\n",
       "      <td>10</td>\n",
       "      <td>Shot</td>\n",
       "      <td>[{'id': 401}, {'id': 201}, {'id': 1211}, {'id'...</td>\n",
       "      <td>26150</td>\n",
       "      <td>[{'y': 52, 'x': 85}, {'y': 100, 'x': 100}]</td>\n",
       "      <td>2499719</td>\n",
       "      <td>Shot</td>\n",
       "      <td>1631</td>\n",
       "      <td>1H</td>\n",
       "      <td>179.854785</td>\n",
       "      <td>100</td>\n",
       "      <td>177959247</td>\n",
       "      <td>15.75</td>\n",
       "      <td>35.36</td>\n",
       "      <td>1.36</td>\n",
       "      <td>15.808608</td>\n",
       "      <td>0.453557</td>\n",
       "      <td>0</td>\n",
       "      <td>0.162557</td>\n",
       "    </tr>\n",
       "    <tr>\n",
       "      <th>91</th>\n",
       "      <td>10</td>\n",
       "      <td>Shot</td>\n",
       "      <td>[{'id': 101}, {'id': 403}, {'id': 201}, {'id':...</td>\n",
       "      <td>14763</td>\n",
       "      <td>[{'y': 52, 'x': 96}, {'y': 100, 'x': 100}]</td>\n",
       "      <td>2499719</td>\n",
       "      <td>Shot</td>\n",
       "      <td>1631</td>\n",
       "      <td>1H</td>\n",
       "      <td>254.745027</td>\n",
       "      <td>100</td>\n",
       "      <td>177959280</td>\n",
       "      <td>4.20</td>\n",
       "      <td>35.36</td>\n",
       "      <td>1.36</td>\n",
       "      <td>4.414703</td>\n",
       "      <td>1.375115</td>\n",
       "      <td>1</td>\n",
       "      <td>0.754979</td>\n",
       "    </tr>\n",
       "    <tr>\n",
       "      <th>128</th>\n",
       "      <td>10</td>\n",
       "      <td>Shot</td>\n",
       "      <td>[{'id': 401}, {'id': 201}, {'id': 1215}, {'id'...</td>\n",
       "      <td>7868</td>\n",
       "      <td>[{'y': 33, 'x': 81}, {'y': 0, 'x': 0}]</td>\n",
       "      <td>2499719</td>\n",
       "      <td>Shot</td>\n",
       "      <td>1609</td>\n",
       "      <td>1H</td>\n",
       "      <td>425.824035</td>\n",
       "      <td>100</td>\n",
       "      <td>177959289</td>\n",
       "      <td>19.95</td>\n",
       "      <td>22.44</td>\n",
       "      <td>11.56</td>\n",
       "      <td>23.057235</td>\n",
       "      <td>0.274666</td>\n",
       "      <td>0</td>\n",
       "      <td>0.101926</td>\n",
       "    </tr>\n",
       "    <tr>\n",
       "      <th>249</th>\n",
       "      <td>10</td>\n",
       "      <td>Shot</td>\n",
       "      <td>[{'id': 402}, {'id': 201}, {'id': 1205}, {'id'...</td>\n",
       "      <td>7868</td>\n",
       "      <td>[{'y': 30, 'x': 75}, {'y': 0, 'x': 0}]</td>\n",
       "      <td>2499719</td>\n",
       "      <td>Shot</td>\n",
       "      <td>1609</td>\n",
       "      <td>1H</td>\n",
       "      <td>815.462015</td>\n",
       "      <td>100</td>\n",
       "      <td>177959429</td>\n",
       "      <td>26.25</td>\n",
       "      <td>20.40</td>\n",
       "      <td>13.60</td>\n",
       "      <td>29.563872</td>\n",
       "      <td>0.219665</td>\n",
       "      <td>0</td>\n",
       "      <td>0.087783</td>\n",
       "    </tr>\n",
       "  </tbody>\n",
       "</table>\n",
       "</div>"
      ],
      "text/plain": [
       "     eventId subEventName                                               tags  \\\n",
       "46        10         Shot  [{'id': 101}, {'id': 402}, {'id': 201}, {'id':...   \n",
       "62        10         Shot  [{'id': 401}, {'id': 201}, {'id': 1211}, {'id'...   \n",
       "91        10         Shot  [{'id': 101}, {'id': 403}, {'id': 201}, {'id':...   \n",
       "128       10         Shot  [{'id': 401}, {'id': 201}, {'id': 1215}, {'id'...   \n",
       "249       10         Shot  [{'id': 402}, {'id': 201}, {'id': 1205}, {'id'...   \n",
       "\n",
       "     playerId                                   positions  matchId eventName  \\\n",
       "46      25413      [{'y': 41, 'x': 88}, {'y': 0, 'x': 0}]  2499719      Shot   \n",
       "62      26150  [{'y': 52, 'x': 85}, {'y': 100, 'x': 100}]  2499719      Shot   \n",
       "91      14763  [{'y': 52, 'x': 96}, {'y': 100, 'x': 100}]  2499719      Shot   \n",
       "128      7868      [{'y': 33, 'x': 81}, {'y': 0, 'x': 0}]  2499719      Shot   \n",
       "249      7868      [{'y': 30, 'x': 75}, {'y': 0, 'x': 0}]  2499719      Shot   \n",
       "\n",
       "     teamId matchPeriod    eventSec subEventId         id      X      Y  \\\n",
       "46     1609          1H   94.595788        100  177959212  12.60  27.88   \n",
       "62     1631          1H  179.854785        100  177959247  15.75  35.36   \n",
       "91     1631          1H  254.745027        100  177959280   4.20  35.36   \n",
       "128    1609          1H  425.824035        100  177959289  19.95  22.44   \n",
       "249    1609          1H  815.462015        100  177959429  26.25  20.40   \n",
       "\n",
       "         C   Distance     Angle Goal        xG  \n",
       "46    6.12  14.007655  0.467241    1  0.168222  \n",
       "62    1.36  15.808608  0.453557    0  0.162557  \n",
       "91    1.36   4.414703  1.375115    1  0.754979  \n",
       "128  11.56  23.057235  0.274666    0  0.101926  \n",
       "249  13.60  29.563872  0.219665    0  0.087783  "
      ]
     },
     "execution_count": 12,
     "metadata": {},
     "output_type": "execute_result"
    }
   ],
   "source": [
    "#calculate xG\n",
    "xG = 1/(1+np.exp(b[0]+b[1]*shots['Angle']))\n",
    "shots = shots.assign(xG = xG)\n",
    "shots_40 = shots.iloc[:40]\n",
    "shots.head()"
   ]
  },
  {
   "cell_type": "code",
   "execution_count": 13,
   "id": "0ea4f16f",
   "metadata": {},
   "outputs": [
    {
     "data": {
      "image/png": "[encoded data removed]",
      "text/plain": [
       "<Figure size 432x288 with 1 Axes>"
      ]
     },
     "metadata": {
      "needs_background": "light"
     },
     "output_type": "display_data"
    }
   ],
   "source": [
    "#plot data\n",
    "fig, ax = plt.subplots()\n",
    "ax.plot(shots_40['Angle']*180/np.pi, shots_40['Goal'], linestyle='none', marker= '.', markersize= 12, color='black', zorder = 3)\n",
    "#plot curves\n",
    "ax.plot(x, y, linestyle=':', color='black', zorder = 2)\n",
    "ax.plot(x, 1-y, linestyle='solid', color='black', zorder = 2)\n",
    "#calculate loglikelihood\n",
    "loglikelihood=0\n",
    "for item,shot in shots_40.iterrows():\n",
    "    ang = shot['Angle'] * 180/np.pi\n",
    "    if shot['Goal'] == 1:\n",
    "        loglikelihood = loglikelihood + np.log(shot['xG'])\n",
    "        ax.plot([ang,ang],[shot['Goal'],1-shot['xG']], color='red', zorder = 1)\n",
    "    else:\n",
    "        loglikelihood = loglikelihood + np.log(1 - shot['xG'])\n",
    "        ax.plot([ang,ang], [shot['Goal'], 1-shot['xG']], color='blue', zorder = 1)\n",
    "#make legend\n",
    "ax.set_ylabel('Goal scored')\n",
    "ax.set_xlabel(\"Shot angle (degrees)\")\n",
    "plt.ylim((-0.05,1.05))\n",
    "plt.xlim((0,180))\n",
    "plt.text(120,0.5,'Log-likelihood:')\n",
    "plt.text(120,0.4,str(loglikelihood)[:6])\n",
    "ax.set_yticks([0,1])\n",
    "ax.spines['top'].set_visible(False)\n",
    "ax.spines['right'].set_visible(False)\n",
    "plt.show()"
   ]
  },
  {
   "cell_type": "code",
   "execution_count": 14,
   "id": "32679f45",
   "metadata": {},
   "outputs": [
    {
     "name": "stdout",
     "output_type": "stream",
     "text": [
      "                   Generalized Linear Model Regression Results                    \n",
      "==================================================================================\n",
      "Dep. Variable:     ['Goal[0]', 'Goal[1]']   No. Observations:                 8451\n",
      "Model:                                GLM   Df Residuals:                     8449\n",
      "Model Family:                    Binomial   Df Model:                            1\n",
      "Link Function:                      logit   Scale:                          1.0000\n",
      "Method:                              IRLS   Log-Likelihood:                -2561.2\n",
      "Date:                    Mon, 22 Jan 2024   Deviance:                       5122.5\n",
      "Time:                            09:10:53   Pearson chi2:                 7.96e+03\n",
      "No. Iterations:                         6                                         \n",
      "Covariance Type:                nonrobust                                         \n",
      "==============================================================================\n",
      "                 coef    std err          z      P>|z|      [0.025      0.975]\n",
      "------------------------------------------------------------------------------\n",
      "Intercept      3.5248      0.074     47.517      0.000       3.379       3.670\n",
      "Angle         -2.8436      0.117    -24.391      0.000      -3.072      -2.615\n",
      "==============================================================================\n"
     ]
    }
   ],
   "source": [
    "#create model\n",
    "test_model = smf.glm(formula=\"Goal ~ Angle\" , data=shots,\n",
    "                           family=sm.families.Binomial()).fit()\n",
    "print(test_model.summary())"
   ]
  },
  {
   "cell_type": "code",
   "execution_count": 15,
   "id": "6f916e0b",
   "metadata": {},
   "outputs": [
    {
     "data": {
      "image/png": "[encoded data removed]",
      "text/plain": [
       "<Figure size 432x288 with 1 Axes>"
      ]
     },
     "metadata": {
      "needs_background": "light"
     },
     "output_type": "display_data"
    }
   ],
   "source": [
    "fig, ax = plt.subplots()\n",
    "b = [3.5248, -2.8436 ]\n",
    "x = np.arange(150,step=0.1)\n",
    "y = 1/(1+np.exp(b[0]+b[1]*x*np.pi/180))\n",
    "#plot line\n",
    "ax.plot(midangle, prob_goal, linestyle='none', marker= '.', markersize= 12, color='black')\n",
    "#plot logistic function\n",
    "ax.plot(x, y, linestyle='solid', color='black')\n",
    "plt.show()"
   ]
  },
  {
   "cell_type": "markdown",
   "id": "61fc525d",
   "metadata": {},
   "source": [
    "## Adding extra variables to the model"
   ]
  },
  {
   "cell_type": "code",
   "execution_count": 16,
   "id": "dd9880fc",
   "metadata": {},
   "outputs": [
    {
     "data": {
      "text/plain": [
       "'Angle + Distance + X + C + X2 + C2 + AX'"
      ]
     },
     "execution_count": 16,
     "metadata": {},
     "output_type": "execute_result"
    }
   ],
   "source": [
    "#creating extra variables\n",
    "shots[\"X2\"] = shots['X']**2\n",
    "shots[\"C2\"] = shots['C']**2\n",
    "shots[\"AX\"]  = shots['Angle']*shots['X']\n",
    "\n",
    "# list the model variables you want here\n",
    "model_variables = ['Angle','Distance','X','C', \"X2\", \"C2\", \"AX\"]\n",
    "model=''\n",
    "for v in model_variables[:-1]:\n",
    "    model = model  + v + ' + '\n",
    "model = model + model_variables[-1]\n",
    "model"
   ]
  },
  {
   "cell_type": "markdown",
   "id": "66386747",
   "metadata": {},
   "source": [
    "need to include the familiy argument so that glm knows that goals is a binary variable"
   ]
  },
  {
   "cell_type": "code",
   "execution_count": 17,
   "id": "3d8aac0e",
   "metadata": {},
   "outputs": [
    {
     "name": "stdout",
     "output_type": "stream",
     "text": [
      "                   Generalized Linear Model Regression Results                    \n",
      "==================================================================================\n",
      "Dep. Variable:     ['Goal[0]', 'Goal[1]']   No. Observations:                 8451\n",
      "Model:                                GLM   Df Residuals:                     8443\n",
      "Model Family:                    Binomial   Df Model:                            7\n",
      "Link Function:                      logit   Scale:                          1.0000\n",
      "Method:                              IRLS   Log-Likelihood:                -2498.7\n",
      "Date:                    Mon, 22 Jan 2024   Deviance:                       4997.4\n",
      "Time:                            09:10:53   Pearson chi2:                 8.40e+03\n",
      "No. Iterations:                         7                                         \n",
      "Covariance Type:                nonrobust                                         \n",
      "==============================================================================\n",
      "                 coef    std err          z      P>|z|      [0.025      0.975]\n",
      "------------------------------------------------------------------------------\n",
      "Intercept     -0.5103      0.887     -0.576      0.565      -2.248       1.228\n",
      "Angle         -0.6338      0.319     -1.989      0.047      -1.258      -0.009\n",
      "Distance       0.2798      0.118      2.381      0.017       0.049       0.510\n",
      "X             -0.1243      0.124     -1.001      0.317      -0.368       0.119\n",
      "C              0.0300      0.040      0.750      0.454      -0.048       0.109\n",
      "X2            -0.0014      0.001     -1.422      0.155      -0.003       0.001\n",
      "C2            -0.0041      0.003     -1.398      0.162      -0.010       0.002\n",
      "AX             0.1251      0.118      1.063      0.288      -0.105       0.356\n",
      "==============================================================================\n",
      "Intercept   -0.510321\n",
      "Angle       -0.633841\n",
      "Distance     0.279768\n",
      "X           -0.124279\n",
      "C            0.030032\n",
      "X2          -0.001447\n",
      "C2          -0.004095\n",
      "AX           0.125096\n",
      "dtype: float64\n"
     ]
    }
   ],
   "source": [
    "#fit the model\n",
    "test_model = smf.glm(formula=\"Goal ~ \" + model, data=shots,\n",
    "                           family=sm.families.Binomial()).fit()\n",
    "#print summary\n",
    "print(test_model.summary())\n",
    "b=test_model.params\n",
    "print(b)"
   ]
  },
  {
   "cell_type": "code",
   "execution_count": 28,
   "id": "0bd7210f",
   "metadata": {},
   "outputs": [],
   "source": [
    "def calculate_xG(sh):\n",
    "    bsum = b[0]\n",
    "    for i,v in enumerate(model_variables):\n",
    "        bsum = bsum + b[i + 1] * sh[v]\n",
    "    xG = 1 / (1 + np.exp(bsum))\n",
    "    return xG\n"
   ]
  },
  {
   "cell_type": "code",
   "execution_count": 29,
   "id": "4e4794f7",
   "metadata": {},
   "outputs": [
    {
     "data": {
      "text/html": [
       "<div>\n",
       "<style scoped>\n",
       "    .dataframe tbody tr th:only-of-type {\n",
       "        vertical-align: middle;\n",
       "    }\n",
       "\n",
       "    .dataframe tbody tr th {\n",
       "        vertical-align: top;\n",
       "    }\n",
       "\n",
       "    .dataframe thead th {\n",
       "        text-align: right;\n",
       "    }\n",
       "</style>\n",
       "<table border=\"1\" class=\"dataframe\">\n",
       "  <thead>\n",
       "    <tr style=\"text-align: right;\">\n",
       "      <th></th>\n",
       "      <th>eventId</th>\n",
       "      <th>subEventName</th>\n",
       "      <th>tags</th>\n",
       "      <th>playerId</th>\n",
       "      <th>positions</th>\n",
       "      <th>matchId</th>\n",
       "      <th>eventName</th>\n",
       "      <th>teamId</th>\n",
       "      <th>matchPeriod</th>\n",
       "      <th>eventSec</th>\n",
       "      <th>...</th>\n",
       "      <th>X</th>\n",
       "      <th>Y</th>\n",
       "      <th>C</th>\n",
       "      <th>Distance</th>\n",
       "      <th>Angle</th>\n",
       "      <th>Goal</th>\n",
       "      <th>xG</th>\n",
       "      <th>X2</th>\n",
       "      <th>C2</th>\n",
       "      <th>AX</th>\n",
       "    </tr>\n",
       "  </thead>\n",
       "  <tbody>\n",
       "    <tr>\n",
       "      <th>46</th>\n",
       "      <td>10</td>\n",
       "      <td>Shot</td>\n",
       "      <td>[{'id': 101}, {'id': 402}, {'id': 201}, {'id':...</td>\n",
       "      <td>25413</td>\n",
       "      <td>[{'y': 41, 'x': 88}, {'y': 0, 'x': 0}]</td>\n",
       "      <td>2499719</td>\n",
       "      <td>Shot</td>\n",
       "      <td>1609</td>\n",
       "      <td>1H</td>\n",
       "      <td>94.595788</td>\n",
       "      <td>...</td>\n",
       "      <td>12.60</td>\n",
       "      <td>27.88</td>\n",
       "      <td>6.12</td>\n",
       "      <td>14.007655</td>\n",
       "      <td>0.467241</td>\n",
       "      <td>1</td>\n",
       "      <td>0.110699</td>\n",
       "      <td>158.7600</td>\n",
       "      <td>37.4544</td>\n",
       "      <td>5.887234</td>\n",
       "    </tr>\n",
       "    <tr>\n",
       "      <th>62</th>\n",
       "      <td>10</td>\n",
       "      <td>Shot</td>\n",
       "      <td>[{'id': 401}, {'id': 201}, {'id': 1211}, {'id'...</td>\n",
       "      <td>26150</td>\n",
       "      <td>[{'y': 52, 'x': 85}, {'y': 100, 'x': 100}]</td>\n",
       "      <td>2499719</td>\n",
       "      <td>Shot</td>\n",
       "      <td>1631</td>\n",
       "      <td>1H</td>\n",
       "      <td>179.854785</td>\n",
       "      <td>...</td>\n",
       "      <td>15.75</td>\n",
       "      <td>35.36</td>\n",
       "      <td>1.36</td>\n",
       "      <td>15.808608</td>\n",
       "      <td>0.453557</td>\n",
       "      <td>0</td>\n",
       "      <td>0.096615</td>\n",
       "      <td>248.0625</td>\n",
       "      <td>1.8496</td>\n",
       "      <td>7.143529</td>\n",
       "    </tr>\n",
       "    <tr>\n",
       "      <th>91</th>\n",
       "      <td>10</td>\n",
       "      <td>Shot</td>\n",
       "      <td>[{'id': 101}, {'id': 403}, {'id': 201}, {'id':...</td>\n",
       "      <td>14763</td>\n",
       "      <td>[{'y': 52, 'x': 96}, {'y': 100, 'x': 100}]</td>\n",
       "      <td>2499719</td>\n",
       "      <td>Shot</td>\n",
       "      <td>1631</td>\n",
       "      <td>1H</td>\n",
       "      <td>254.745027</td>\n",
       "      <td>...</td>\n",
       "      <td>4.20</td>\n",
       "      <td>35.36</td>\n",
       "      <td>1.36</td>\n",
       "      <td>4.414703</td>\n",
       "      <td>1.375115</td>\n",
       "      <td>1</td>\n",
       "      <td>0.484649</td>\n",
       "      <td>17.6400</td>\n",
       "      <td>1.8496</td>\n",
       "      <td>5.775484</td>\n",
       "    </tr>\n",
       "    <tr>\n",
       "      <th>128</th>\n",
       "      <td>10</td>\n",
       "      <td>Shot</td>\n",
       "      <td>[{'id': 401}, {'id': 201}, {'id': 1215}, {'id'...</td>\n",
       "      <td>7868</td>\n",
       "      <td>[{'y': 33, 'x': 81}, {'y': 0, 'x': 0}]</td>\n",
       "      <td>2499719</td>\n",
       "      <td>Shot</td>\n",
       "      <td>1609</td>\n",
       "      <td>1H</td>\n",
       "      <td>425.824035</td>\n",
       "      <td>...</td>\n",
       "      <td>19.95</td>\n",
       "      <td>22.44</td>\n",
       "      <td>11.56</td>\n",
       "      <td>23.057235</td>\n",
       "      <td>0.274666</td>\n",
       "      <td>0</td>\n",
       "      <td>0.039305</td>\n",
       "      <td>398.0025</td>\n",
       "      <td>133.6336</td>\n",
       "      <td>5.479587</td>\n",
       "    </tr>\n",
       "    <tr>\n",
       "      <th>249</th>\n",
       "      <td>10</td>\n",
       "      <td>Shot</td>\n",
       "      <td>[{'id': 402}, {'id': 201}, {'id': 1205}, {'id'...</td>\n",
       "      <td>7868</td>\n",
       "      <td>[{'y': 30, 'x': 75}, {'y': 0, 'x': 0}]</td>\n",
       "      <td>2499719</td>\n",
       "      <td>Shot</td>\n",
       "      <td>1609</td>\n",
       "      <td>1H</td>\n",
       "      <td>815.462015</td>\n",
       "      <td>...</td>\n",
       "      <td>26.25</td>\n",
       "      <td>20.40</td>\n",
       "      <td>13.60</td>\n",
       "      <td>29.563872</td>\n",
       "      <td>0.219665</td>\n",
       "      <td>0</td>\n",
       "      <td>0.023334</td>\n",
       "      <td>689.0625</td>\n",
       "      <td>184.9600</td>\n",
       "      <td>5.766201</td>\n",
       "    </tr>\n",
       "  </tbody>\n",
       "</table>\n",
       "<p>5 rows × 22 columns</p>\n",
       "</div>"
      ],
      "text/plain": [
       "     eventId subEventName                                               tags  \\\n",
       "46        10         Shot  [{'id': 101}, {'id': 402}, {'id': 201}, {'id':...   \n",
       "62        10         Shot  [{'id': 401}, {'id': 201}, {'id': 1211}, {'id'...   \n",
       "91        10         Shot  [{'id': 101}, {'id': 403}, {'id': 201}, {'id':...   \n",
       "128       10         Shot  [{'id': 401}, {'id': 201}, {'id': 1215}, {'id'...   \n",
       "249       10         Shot  [{'id': 402}, {'id': 201}, {'id': 1205}, {'id'...   \n",
       "\n",
       "     playerId                                   positions  matchId eventName  \\\n",
       "46      25413      [{'y': 41, 'x': 88}, {'y': 0, 'x': 0}]  2499719      Shot   \n",
       "62      26150  [{'y': 52, 'x': 85}, {'y': 100, 'x': 100}]  2499719      Shot   \n",
       "91      14763  [{'y': 52, 'x': 96}, {'y': 100, 'x': 100}]  2499719      Shot   \n",
       "128      7868      [{'y': 33, 'x': 81}, {'y': 0, 'x': 0}]  2499719      Shot   \n",
       "249      7868      [{'y': 30, 'x': 75}, {'y': 0, 'x': 0}]  2499719      Shot   \n",
       "\n",
       "     teamId matchPeriod    eventSec  ...      X      Y      C   Distance  \\\n",
       "46     1609          1H   94.595788  ...  12.60  27.88   6.12  14.007655   \n",
       "62     1631          1H  179.854785  ...  15.75  35.36   1.36  15.808608   \n",
       "91     1631          1H  254.745027  ...   4.20  35.36   1.36   4.414703   \n",
       "128    1609          1H  425.824035  ...  19.95  22.44  11.56  23.057235   \n",
       "249    1609          1H  815.462015  ...  26.25  20.40  13.60  29.563872   \n",
       "\n",
       "        Angle  Goal        xG        X2        C2        AX  \n",
       "46   0.467241     1  0.110699  158.7600   37.4544  5.887234  \n",
       "62   0.453557     0  0.096615  248.0625    1.8496  7.143529  \n",
       "91   1.375115     1  0.484649   17.6400    1.8496  5.775484  \n",
       "128  0.274666     0  0.039305  398.0025  133.6336  5.479587  \n",
       "249  0.219665     0  0.023334  689.0625  184.9600  5.766201  \n",
       "\n",
       "[5 rows x 22 columns]"
      ]
     },
     "execution_count": 29,
     "metadata": {},
     "output_type": "execute_result"
    }
   ],
   "source": [
    "shots['xG'] = shots.apply(calculate_xG, axis = 1)\n",
    "shots.head()"
   ]
  },
  {
   "cell_type": "markdown",
   "id": "24efa438",
   "metadata": {},
   "source": [
    "#### Plotting xG model on pitch\n",
    "Will create an 2D array iterating through each each position on the pitch calculating the necessary values for the function so the xG can be calculated at that point. "
   ]
  },
  {
   "cell_type": "code",
   "execution_count": 31,
   "id": "323bab22",
   "metadata": {},
   "outputs": [],
   "source": [
    "pgoal_2d=np.zeros((68,68))\n",
    "for x in range(68):\n",
    "    for y in range(68):\n",
    "        sh=dict()\n",
    "        a = np.arctan(7.32 *x /(x**2 + abs(y-68/2)**2 - (7.32/2)**2))\n",
    "        if a<0:\n",
    "            a = np.pi + a\n",
    "        sh['Angle'] = a\n",
    "        sh['Distance'] = np.sqrt(x**2 + abs(y-68/2)**2)\n",
    "        sh['D2'] = x**2 + abs(y-68/2)**2\n",
    "        sh['X'] = x\n",
    "        sh['AX'] = x*a\n",
    "        sh['X2'] = x**2\n",
    "        sh['C'] = abs(y-68/2)\n",
    "        sh['C2'] = (y-68/2)**2\n",
    "\n",
    "        pgoal_2d[x,y] =  calculate_xG(sh)\n",
    "        "
   ]
  },
  {
   "cell_type": "code",
   "execution_count": 32,
   "id": "b4cdfbb9",
   "metadata": {},
   "outputs": [
    {
     "data": {
      "image/png": "[encoded data removed]",
      "text/plain": [
       "<Figure size 432x288 with 2 Axes>"
      ]
     },
     "metadata": {
      "needs_background": "light"
     },
     "output_type": "display_data"
    }
   ],
   "source": [
    "#plot pitch\n",
    "pitch = VerticalPitch(line_color='black', half = True, pitch_type='custom', pitch_length=105, pitch_width=68, line_zorder = 2)\n",
    "fig, ax = pitch.draw()\n",
    "#plot probability\n",
    "pos = ax.imshow(pgoal_2d, extent=[-1,68,68,-1], aspect='auto',cmap=plt.cm.Reds,vmin=0, vmax=0.3, zorder = 1)\n",
    "fig.colorbar(pos, ax=ax)\n",
    "#make legend\n",
    "ax.set_title('Probability of goal')\n",
    "plt.xlim((0,68))\n",
    "plt.ylim((0,60))\n",
    "plt.gca().set_aspect('equal', adjustable='box')\n",
    "plt.show()"
   ]
  },
  {
   "cell_type": "markdown",
   "id": "0c89309f",
   "metadata": {},
   "source": [
    "## Evaluating Model\n",
    "\n",
    "Plot an ROC curve to test the model on different thresholds"
   ]
  },
  {
   "cell_type": "code",
   "execution_count": 33,
   "id": "05bb3962",
   "metadata": {},
   "outputs": [],
   "source": [
    "# ROC curve\n",
    "numobs = 100\n",
    "TP = np.zeros(numobs)\n",
    "FP = np.zeros(numobs)\n",
    "TN = np.zeros(numobs)\n",
    "FN = np.zeros(numobs)\n",
    "\n",
    "for i, threshold in enumerate(np.arange(0, 1, 1 / numobs)):\n",
    "    for j, shot in shots.iterrows():\n",
    "        if (shot['Goal'] == 1):\n",
    "            if (shot['xG'] > threshold):\n",
    "                TP[i] = TP[i] + 1\n",
    "            else:\n",
    "                FN[i] = FN[i] + 1\n",
    "        if (shot['Goal'] == 0):\n",
    "            if (shot['xG'] > threshold):\n",
    "                FP[i] = FP[i] + 1\n",
    "            else:\n",
    "                TN[i] = TN[i] + 1"
   ]
  },
  {
   "cell_type": "code",
   "execution_count": 37,
   "id": "5def4bef",
   "metadata": {},
   "outputs": [
    {
     "data": {
      "image/png": "[encoded data removed]",
      "text/plain": [
       "<Figure size 432x288 with 1 Axes>"
      ]
     },
     "metadata": {
      "needs_background": "light"
     },
     "output_type": "display_data"
    }
   ],
   "source": [
    "fig, ax = plt.subplots()\n",
    "ax.plot(FP / (FP + TN), TP / (TP + FN), color='black')\n",
    "ax.plot([0, 1], [0, 1], linestyle='dotted', color='black')\n",
    "ax.set_ylabel(\"Predicted to score and did TP/(TP+FN))\")\n",
    "ax.set_xlabel(\"Predicted to score but didn't FP/(FP+TN)\")\n",
    "plt.ylim((0.00, 1.00))\n",
    "plt.xlim((0.00, 1.00))\n",
    "ax.spines['top'].set_visible(False)\n",
    "ax.spines['right'].set_visible(False)"
   ]
  },
  {
   "cell_type": "code",
   "execution_count": null,
   "id": "7e03866d",
   "metadata": {},
   "outputs": [],
   "source": []
  }
 ],
 "metadata": {
  "kernelspec": {
   "display_name": "Python 3 (ipykernel)",
   "language": "python",
   "name": "python3"
  },
  "language_info": {
   "codemirror_mode": {
    "name": "ipython",
    "version": 3
   },
   "file_extension": ".py",
   "mimetype": "text/x-python",
   "name": "python",
   "nbconvert_exporter": "python",
   "pygments_lexer": "ipython3",
   "version": "3.9.7"
  }
 },
 "nbformat": 4,
 "nbformat_minor": 5
}
