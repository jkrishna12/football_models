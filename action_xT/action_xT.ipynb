{
 "cells": [
  {
   "cell_type": "code",
   "execution_count": 1,
   "id": "4005df78",
   "metadata": {},
   "outputs": [],
   "source": [
    "import pandas as pd\n",
    "import json\n",
    "# plotting\n",
    "import os\n",
    "import pathlib\n",
    "import warnings\n",
    "from joblib import load\n",
    "from mplsoccer import Pitch\n",
    "from itertools import combinations_with_replacement\n",
    "from sklearn.linear_model import LinearRegression\n",
    "from sklearn.model_selection import train_test_split\n",
    "import matplotlib.pyplot as plt\n",
    "import numpy as np\n",
    "import xgboost as xgb\n",
    "pd.options.mode.chained_assignment = None\n",
    "warnings.filterwarnings('ignore')"
   ]
  },
  {
   "cell_type": "markdown",
   "id": "5b39d00d",
   "metadata": {},
   "source": [
    "# Creating a Classifier model "
   ]
  },
  {
   "cell_type": "code",
   "execution_count": 2,
   "id": "423ba479",
   "metadata": {},
   "outputs": [],
   "source": [
    "file_name = 'pos_chains_germany.json'\n",
    "\n",
    "with open(file_name) as f:\n",
    "    data = json.load(f)\n",
    "\n",
    "df_germany = pd.DataFrame(data)"
   ]
  },
  {
   "cell_type": "markdown",
   "id": "c4f46cfe",
   "metadata": {},
   "source": [
    "## Generating Variables\n",
    "\n",
    "The features being fed to the model wil be non-linear combinations of x and c coordinate, distance from the centre line of the pitch."
   ]
  },
  {
   "cell_type": "code",
   "execution_count": 3,
   "id": "027951e6",
   "metadata": {},
   "outputs": [],
   "source": [
    "var = ['x0', 'x1','c0','c1']\n",
    "\n",
    "inputs = []\n",
    "\n",
    "# 1 variable combination\n",
    "inputs.extend(combinations_with_replacement(var,1))\n",
    "# 2 variable combination\n",
    "inputs.extend(combinations_with_replacement(var,2))\n",
    "# 3 variable combination\n",
    "inputs.extend(combinations_with_replacement(var,3))"
   ]
  },
  {
   "cell_type": "code",
   "execution_count": 4,
   "id": "46a972cd",
   "metadata": {},
   "outputs": [
    {
     "data": {
      "text/html": [
       "<div>\n",
       "<style scoped>\n",
       "    .dataframe tbody tr th:only-of-type {\n",
       "        vertical-align: middle;\n",
       "    }\n",
       "\n",
       "    .dataframe tbody tr th {\n",
       "        vertical-align: top;\n",
       "    }\n",
       "\n",
       "    .dataframe thead th {\n",
       "        text-align: right;\n",
       "    }\n",
       "</style>\n",
       "<table border=\"1\" class=\"dataframe\">\n",
       "  <thead>\n",
       "    <tr style=\"text-align: right;\">\n",
       "      <th></th>\n",
       "      <th>c0c0c1</th>\n",
       "      <th>c0c1c1</th>\n",
       "      <th>c1c1c1</th>\n",
       "    </tr>\n",
       "  </thead>\n",
       "  <tbody>\n",
       "    <tr>\n",
       "      <th>0</th>\n",
       "      <td>0.000000</td>\n",
       "      <td>0.000000</td>\n",
       "      <td>2.515456</td>\n",
       "    </tr>\n",
       "    <tr>\n",
       "      <th>1</th>\n",
       "      <td>35.216384</td>\n",
       "      <td>493.029376</td>\n",
       "      <td>6902.411264</td>\n",
       "    </tr>\n",
       "    <tr>\n",
       "      <th>2</th>\n",
       "      <td>986.058752</td>\n",
       "      <td>140.865536</td>\n",
       "      <td>20.123648</td>\n",
       "    </tr>\n",
       "  </tbody>\n",
       "</table>\n",
       "</div>"
      ],
      "text/plain": [
       "       c0c0c1      c0c1c1       c1c1c1\n",
       "0    0.000000    0.000000     2.515456\n",
       "1   35.216384  493.029376  6902.411264\n",
       "2  986.058752  140.865536    20.123648"
      ]
     },
     "execution_count": 4,
     "metadata": {},
     "output_type": "execute_result"
    }
   ],
   "source": [
    "#make new columns\n",
    "for i in inputs:\n",
    "    #columns length 1 already exist\n",
    "    if len(i) > 1:\n",
    "        #column name\n",
    "        column = ''\n",
    "        x = 1\n",
    "        for c in i:\n",
    "            #add column name to be x0x1c0 for example\n",
    "            column += c\n",
    "            #multiply values in column\n",
    "            x = x*df_germany[c]\n",
    "        #create a new column in df\n",
    "        df_germany[column] = x\n",
    "        #add column to model variables\n",
    "        var.append(column)\n",
    "#investigate 3 columns\n",
    "df_germany[var[-3:]].head(3)"
   ]
  },
  {
   "cell_type": "markdown",
   "id": "ad7c98ea",
   "metadata": {},
   "source": [
    "## Training Model\n",
    "\n",
    "Will now use these new features to train an XGBoost Classifier on whether the start and end coordinates result in a shot\n",
    "\n",
    "$$P(\\text{shot}|x_0, c_0, x_1, c_1) = f(x_0, c_0, x_1, c_1)$$"
   ]
  },
  {
   "cell_type": "code",
   "execution_count": 5,
   "id": "a1a3f54e",
   "metadata": {},
   "outputs": [],
   "source": [
    "# isolate passes in germany dataset\n",
    "\n",
    "pass_germany = df_germany[df_germany['eventName'].isin(['Pass'])]\n",
    "X = pass_germany[var]\n",
    "y = pass_germany['shot_end']\n",
    "\n",
    "X_train, X_test, y_train, y_test = train_test_split(X, y, stratify = y, test_size = 0.2, random_state = 1234)\n",
    "\n",
    "DM_train = xgb.DMatrix(data = X_train, label = y_train)\n",
    "DM_test = xgb.DMatrix(data = X_test, label = y_test)\n",
    "\n",
    "params = {'objective':'binary:logistic', 'max_depth':4,'min_samples_leaf':10}\n",
    "\n",
    "model_results = xgb.cv(dtrain=DM_train, params=params, num_boost_round = 100, as_pandas = True, nfold = 10)"
   ]
  },
  {
   "cell_type": "code",
   "execution_count": 6,
   "id": "5d070c06",
   "metadata": {},
   "outputs": [
    {
     "name": "stdout",
     "output_type": "stream",
     "text": [
      "Test Set Accuracy: 0.9243564784771793\n"
     ]
    }
   ],
   "source": [
    "model_xgb = xgb.train(dtrain=DM_train, params=params, num_boost_round = 100)\n",
    "pred_probs = model_xgb.predict(DM_test)\n",
    "\n",
    "pred_class = np.where(pred_probs > 0.5, 1, 0)\n",
    "\n",
    "# calculating accuracy of the XGBoost Classifier model\n",
    "acc_list = [1 if pred == label else 0 for pred, label in zip(pred_class, DM_test.get_label())]\n",
    "\n",
    "accuracy = np.sum(acc_list) / len(acc_list)\n",
    "print('Test Set Accuracy: {}'.format(accuracy))"
   ]
  },
  {
   "cell_type": "markdown",
   "id": "07f7c02a",
   "metadata": {},
   "source": [
    "Now have a classifier model that will predict the probability of a shot occuring based on the start and end points of the action. Will now train and evaluate a linear regression model on the german possession dataset to find the the probability of a goal occuring given the start and end coordinates of the event and if a shot was taken in the chain.\n",
    "$$P(\\text{goal}|\\text{shot},x_0, c_0, x_1, c_1) = f(x_0, c_0, x_1, c_1)$$"
   ]
  },
  {
   "cell_type": "code",
   "execution_count": 7,
   "id": "57a5d3aa",
   "metadata": {},
   "outputs": [],
   "source": [
    "passes_germany_shot_end = pass_germany[pass_germany['shot_end'] == 1]\n",
    "X, y = passes_germany_shot_end[var], passes_germany_shot_end['xG']"
   ]
  },
  {
   "cell_type": "code",
   "execution_count": 8,
   "id": "90c66cd3",
   "metadata": {},
   "outputs": [
    {
     "data": {
      "image/png": "[encoded data removed]",
      "text/plain": [
       "<Figure size 432x288 with 1 Axes>"
      ]
     },
     "metadata": {
      "needs_background": "light"
     },
     "output_type": "display_data"
    }
   ],
   "source": [
    "passes_germany_shot_end['xG'].hist()\n",
    "plt.show()"
   ]
  },
  {
   "cell_type": "code",
   "execution_count": 9,
   "id": "5dcd8fbb",
   "metadata": {},
   "outputs": [
    {
     "data": {
      "text/plain": [
       "0.11144919165962838"
      ]
     },
     "execution_count": 9,
     "metadata": {},
     "output_type": "execute_result"
    }
   ],
   "source": [
    "X_train, X_test, y_train, y_test = train_test_split(X, y, test_size = 0.2, random_state = 1234)\n",
    "\n",
    "lr = LinearRegression()\n",
    "\n",
    "lr.fit(X_train, y_train)\n",
    "\n",
    "germany_xg_pred = lr.predict(X_test)\n",
    "\n",
    "from sklearn.metrics import mean_squared_error\n",
    "\n",
    "mean_squared_error(y_test, germany_xg_pred, squared = False)"
   ]
  },
  {
   "cell_type": "markdown",
   "id": "9d58039a",
   "metadata": {},
   "source": [
    "### Implementing Model on English Dataset"
   ]
  },
  {
   "cell_type": "code",
   "execution_count": 10,
   "id": "d253021d",
   "metadata": {},
   "outputs": [],
   "source": [
    "# loading english dataframe possesssion chains\n",
    "\n",
    "df_england = pd.DataFrame()\n",
    "for i in range(11):\n",
    "    file_name = 'possession_chains_England' + str(i+1) + '.json'\n",
    "    path = os.path.join(str(pathlib.Path().resolve().parents[0]), 'action_xT', file_name)\n",
    "    with open(path) as f:\n",
    "        data = json.load(f)\n",
    "    df_england = pd.concat([df_england, pd.DataFrame(data)], ignore_index = True)\n",
    "\n",
    "df_england = df_england.reset_index()"
   ]
  },
  {
   "cell_type": "markdown",
   "id": "4b362c95",
   "metadata": {},
   "source": [
    "Repeat the steps of generating variables for the english dataset again"
   ]
  },
  {
   "cell_type": "code",
   "execution_count": 11,
   "id": "3c13f77c",
   "metadata": {},
   "outputs": [],
   "source": [
    "#model variables\n",
    "var = [\"x0\", \"x1\", \"c0\", \"c1\"]\n",
    "\n",
    "#combinations\n",
    "inputs = []\n",
    "#one variable combinations\n",
    "inputs.extend(combinations_with_replacement(var, 1))\n",
    "#2 variable combinations\n",
    "inputs.extend(combinations_with_replacement(var, 2))\n",
    "#3 variable combinations\n",
    "inputs.extend(combinations_with_replacement(var, 3))\n",
    "\n",
    "#make new columns\n",
    "for i in inputs:\n",
    "    #columns length 1 already exist\n",
    "    if len(i) > 1:\n",
    "        #column name\n",
    "        column = ''\n",
    "        x = 1\n",
    "        for c in i:\n",
    "            #add column name to be x0x1c0 for example\n",
    "            column += c\n",
    "            #multiply values in column\n",
    "            x = x*df_england[c]\n",
    "        #create a new column in df\n",
    "        df_england[column] = x\n",
    "        #add column to model variables\n",
    "        var.append(column)\n",
    "#investigate 3 columns\n"
   ]
  },
  {
   "cell_type": "code",
   "execution_count": 12,
   "id": "ba7a4404",
   "metadata": {},
   "outputs": [
    {
     "data": {
      "text/html": [
       "<div>\n",
       "<style scoped>\n",
       "    .dataframe tbody tr th:only-of-type {\n",
       "        vertical-align: middle;\n",
       "    }\n",
       "\n",
       "    .dataframe tbody tr th {\n",
       "        vertical-align: top;\n",
       "    }\n",
       "\n",
       "    .dataframe thead th {\n",
       "        text-align: right;\n",
       "    }\n",
       "</style>\n",
       "<table border=\"1\" class=\"dataframe\">\n",
       "  <thead>\n",
       "    <tr style=\"text-align: right;\">\n",
       "      <th></th>\n",
       "      <th>c0c0c1</th>\n",
       "      <th>c0c1c1</th>\n",
       "      <th>c1c1c1</th>\n",
       "    </tr>\n",
       "  </thead>\n",
       "  <tbody>\n",
       "    <tr>\n",
       "      <th>0</th>\n",
       "      <td>8.804096</td>\n",
       "      <td>246.514688</td>\n",
       "      <td>6902.411264</td>\n",
       "    </tr>\n",
       "    <tr>\n",
       "      <th>1</th>\n",
       "      <td>6162.867200</td>\n",
       "      <td>5502.560000</td>\n",
       "      <td>4913.000000</td>\n",
       "    </tr>\n",
       "    <tr>\n",
       "      <th>2</th>\n",
       "      <td>4126.920000</td>\n",
       "      <td>3466.612800</td>\n",
       "      <td>2911.954752</td>\n",
       "    </tr>\n",
       "  </tbody>\n",
       "</table>\n",
       "</div>"
      ],
      "text/plain": [
       "        c0c0c1       c0c1c1       c1c1c1\n",
       "0     8.804096   246.514688  6902.411264\n",
       "1  6162.867200  5502.560000  4913.000000\n",
       "2  4126.920000  3466.612800  2911.954752"
      ]
     },
     "execution_count": 12,
     "metadata": {},
     "output_type": "execute_result"
    }
   ],
   "source": [
    "df_england[var[-3:]].head(3)"
   ]
  },
  {
   "cell_type": "markdown",
   "id": "320dd575",
   "metadata": {},
   "source": [
    "Can now use the models trained on the Germany dataset for the English dataset. Begin by calculating the probability of a shot being taken"
   ]
  },
  {
   "cell_type": "code",
   "execution_count": 13,
   "id": "0fad50b4",
   "metadata": {},
   "outputs": [],
   "source": [
    "passes_england = df_england.loc[df_england[\"eventName\"].isin([\"Pass\"])]\n",
    "\n",
    "X_eng = passes_england[var]\n",
    "y_eng = passes_england['shot_end']\n",
    "\n",
    "DM_test_eng = xgb.DMatrix(data = X_eng, label = y_eng)\n",
    "eng_pred_prob = model_xgb.predict(DM_test_eng)"
   ]
  },
  {
   "cell_type": "code",
   "execution_count": 14,
   "id": "ea17c175",
   "metadata": {},
   "outputs": [],
   "source": [
    "passes_england['shot_prob'] = eng_pred_prob"
   ]
  },
  {
   "cell_type": "markdown",
   "id": "e003459b",
   "metadata": {},
   "source": [
    "Will now use the Linear regression model to find the predicted xG given a shot was taken and the beginning and end points of the action"
   ]
  },
  {
   "cell_type": "code",
   "execution_count": 15,
   "id": "8e0e392e",
   "metadata": {},
   "outputs": [],
   "source": [
    "X_eng_shot_end = passes_england[var]\n",
    "y_eng_shot_end = passes_england['xG']\n",
    "\n",
    "eng_pred_xg = lr.predict(X_eng_shot_end)"
   ]
  },
  {
   "cell_type": "code",
   "execution_count": 16,
   "id": "5636397f",
   "metadata": {},
   "outputs": [
    {
     "data": {
      "text/plain": [
       "array([0.12515031, 0.1156563 , 0.12819525, ..., 0.11657753, 0.16614263,\n",
       "       0.17615509])"
      ]
     },
     "execution_count": 16,
     "metadata": {},
     "output_type": "execute_result"
    }
   ],
   "source": [
    "eng_pred_xg"
   ]
  },
  {
   "cell_type": "code",
   "execution_count": 17,
   "id": "6ff113d7",
   "metadata": {},
   "outputs": [
    {
     "data": {
      "text/plain": [
       "0.10816087554475703"
      ]
     },
     "execution_count": 17,
     "metadata": {},
     "output_type": "execute_result"
    }
   ],
   "source": [
    "mean_squared_error(y_eng_shot_end, eng_pred_xg, squared = False)"
   ]
  },
  {
   "cell_type": "code",
   "execution_count": 18,
   "id": "11989977",
   "metadata": {},
   "outputs": [],
   "source": [
    "passes_england['xG_pred'] = eng_pred_xg"
   ]
  },
  {
   "cell_type": "code",
   "execution_count": 19,
   "id": "9297ec32",
   "metadata": {},
   "outputs": [
    {
     "data": {
      "text/html": [
       "<div>\n",
       "<style scoped>\n",
       "    .dataframe tbody tr th:only-of-type {\n",
       "        vertical-align: middle;\n",
       "    }\n",
       "\n",
       "    .dataframe tbody tr th {\n",
       "        vertical-align: top;\n",
       "    }\n",
       "\n",
       "    .dataframe thead th {\n",
       "        text-align: right;\n",
       "    }\n",
       "</style>\n",
       "<table border=\"1\" class=\"dataframe\">\n",
       "  <thead>\n",
       "    <tr style=\"text-align: right;\">\n",
       "      <th></th>\n",
       "      <th>xG_pred</th>\n",
       "      <th>shot_prob</th>\n",
       "      <th>xT</th>\n",
       "    </tr>\n",
       "  </thead>\n",
       "  <tbody>\n",
       "    <tr>\n",
       "      <th>0</th>\n",
       "      <td>0.125150</td>\n",
       "      <td>0.020564</td>\n",
       "      <td>0.002574</td>\n",
       "    </tr>\n",
       "    <tr>\n",
       "      <th>1</th>\n",
       "      <td>0.115656</td>\n",
       "      <td>0.034294</td>\n",
       "      <td>0.003966</td>\n",
       "    </tr>\n",
       "    <tr>\n",
       "      <th>2</th>\n",
       "      <td>0.128195</td>\n",
       "      <td>0.037753</td>\n",
       "      <td>0.004840</td>\n",
       "    </tr>\n",
       "    <tr>\n",
       "      <th>3</th>\n",
       "      <td>0.111881</td>\n",
       "      <td>0.038205</td>\n",
       "      <td>0.004274</td>\n",
       "    </tr>\n",
       "    <tr>\n",
       "      <th>4</th>\n",
       "      <td>0.115498</td>\n",
       "      <td>0.039909</td>\n",
       "      <td>0.004609</td>\n",
       "    </tr>\n",
       "  </tbody>\n",
       "</table>\n",
       "</div>"
      ],
      "text/plain": [
       "    xG_pred  shot_prob        xT\n",
       "0  0.125150   0.020564  0.002574\n",
       "1  0.115656   0.034294  0.003966\n",
       "2  0.128195   0.037753  0.004840\n",
       "3  0.111881   0.038205  0.004274\n",
       "4  0.115498   0.039909  0.004609"
      ]
     },
     "execution_count": 19,
     "metadata": {},
     "output_type": "execute_result"
    }
   ],
   "source": [
    "#calculate xGchain\n",
    "passes_england[\"xT\"] = passes_england[\"xG_pred\"] * passes_england[\"shot_prob\"]\n",
    "\n",
    "passes_england[[\"xG_pred\", \"shot_prob\", \"xT\"]].head(5)"
   ]
  },
  {
   "cell_type": "markdown",
   "id": "d70694fb",
   "metadata": {},
   "source": [
    "## Finding Players with the highest action based xT"
   ]
  },
  {
   "cell_type": "code",
   "execution_count": 20,
   "id": "1b8a7189",
   "metadata": {},
   "outputs": [],
   "source": [
    "summary = passes_england[[\"playerId\", \"xT\"]].groupby([\"playerId\"]).sum().reset_index()"
   ]
  },
  {
   "cell_type": "code",
   "execution_count": 21,
   "id": "8d325ff7",
   "metadata": {},
   "outputs": [],
   "source": [
    "path = os.path.join(str(pathlib.Path().resolve().parents[0]),\"data\", 'Wyscout', 'players.json')\n",
    "player_df = pd.read_json(path, encoding = 'unicode-escape')\n",
    "\n",
    "# rename column so both dataframes can be merged on the same key\n",
    "player_df.rename(columns = {'wyId':'playerId'}, inplace=True)\n",
    "\n",
    "# extract players role\n",
    "player_df[\"role\"] = player_df.apply(lambda x: x.role[\"name\"], axis = 1)\n",
    "\n",
    "# isolate relevant columns to merge with summary datafrane\n",
    "to_merge = player_df[['playerId', 'shortName', 'role']]"
   ]
  },
  {
   "cell_type": "code",
   "execution_count": 22,
   "id": "683c2b8b",
   "metadata": {},
   "outputs": [],
   "source": [
    "summary = summary.merge(to_merge, how = \"left\", on = [\"playerId\"])"
   ]
  },
  {
   "cell_type": "code",
   "execution_count": 23,
   "id": "e94e82e8",
   "metadata": {},
   "outputs": [],
   "source": [
    "# load players minutes dataframe\n",
    "\n",
    "#get minutes\n",
    "path = os.path.join(str(pathlib.Path().resolve().parents[0]),'Data','Wyscout',\"minutes_played\", 'minutes_played_per_game_England.json')\n",
    "with open(path) as f:\n",
    "    minutes_per_game = json.load(f)\n",
    "#filtering over 400 per game\n",
    "minutes_per_game = pd.DataFrame(minutes_per_game)\n",
    "# group by player and aggregrate by minutes played\n",
    "minutes = minutes_per_game.groupby([\"playerId\"]).minutesPlayed.sum().reset_index()\n",
    "\n",
    "# merge with summary dataframe on playerId and filter for players with more than 400 minutes\n",
    "summary = minutes.merge(summary, how = \"left\", on = [\"playerId\"])\n",
    "summary = summary.fillna(0)\n",
    "summary = summary.loc[summary[\"minutesPlayed\"] > 400]"
   ]
  },
  {
   "cell_type": "code",
   "execution_count": 24,
   "id": "c0641473",
   "metadata": {},
   "outputs": [],
   "source": [
    "#calculating per 90\n",
    "summary[\"xT_p90\"] = summary[\"xT\"]*90/summary[\"minutesPlayed\"]"
   ]
  },
  {
   "cell_type": "code",
   "execution_count": 25,
   "id": "55ff277b",
   "metadata": {},
   "outputs": [],
   "source": [
    "# adjusting xT per 90 for players possession\n",
    "\n",
    "# load possession data\n",
    "path = os.path.join(str(pathlib.Path().resolve().parents[0]),'Data','Wyscout',\"minutes_played\", 'player_possesion_England.json')\n",
    "with open(path) as f:\n",
    "    percentage_df = json.load(f)\n",
    "percentage_df = pd.DataFrame(percentage_df)"
   ]
  },
  {
   "cell_type": "code",
   "execution_count": 26,
   "id": "d993696b",
   "metadata": {},
   "outputs": [
    {
     "data": {
      "text/html": [
       "<div>\n",
       "<style scoped>\n",
       "    .dataframe tbody tr th:only-of-type {\n",
       "        vertical-align: middle;\n",
       "    }\n",
       "\n",
       "    .dataframe tbody tr th {\n",
       "        vertical-align: top;\n",
       "    }\n",
       "\n",
       "    .dataframe thead th {\n",
       "        text-align: right;\n",
       "    }\n",
       "</style>\n",
       "<table border=\"1\" class=\"dataframe\">\n",
       "  <thead>\n",
       "    <tr style=\"text-align: right;\">\n",
       "      <th></th>\n",
       "      <th>shortName</th>\n",
       "      <th>xT_adjusted_per_90</th>\n",
       "    </tr>\n",
       "  </thead>\n",
       "  <tbody>\n",
       "    <tr>\n",
       "      <th>22</th>\n",
       "      <td>M. Özil</td>\n",
       "      <td>1.528043</td>\n",
       "    </tr>\n",
       "    <tr>\n",
       "      <th>27</th>\n",
       "      <td>Fàbregas</td>\n",
       "      <td>1.452204</td>\n",
       "    </tr>\n",
       "    <tr>\n",
       "      <th>250</th>\n",
       "      <td>E. Hazard</td>\n",
       "      <td>1.366834</td>\n",
       "    </tr>\n",
       "    <tr>\n",
       "      <th>30</th>\n",
       "      <td>A. Sánchez</td>\n",
       "      <td>1.363921</td>\n",
       "    </tr>\n",
       "    <tr>\n",
       "      <th>117</th>\n",
       "      <td>David Silva</td>\n",
       "      <td>1.328460</td>\n",
       "    </tr>\n",
       "  </tbody>\n",
       "</table>\n",
       "</div>"
      ],
      "text/plain": [
       "       shortName  xT_adjusted_per_90\n",
       "22       M. Özil            1.528043\n",
       "27      Fàbregas            1.452204\n",
       "250    E. Hazard            1.366834\n",
       "30    A. Sánchez            1.363921\n",
       "117  David Silva            1.328460"
      ]
     },
     "execution_count": 26,
     "metadata": {},
     "output_type": "execute_result"
    }
   ],
   "source": [
    "summary = summary.merge(percentage_df, how = \"left\", on = [\"playerId\"])\n",
    "#adjust per possesion\n",
    "summary[\"xT_adjusted_per_90\"] = (summary[\"xT\"]/summary[\"possesion\"])*90/summary[\"minutesPlayed\"]\n",
    "summary[['shortName', 'xT_adjusted_per_90']].sort_values(by='xT_adjusted_per_90', ascending=False).head(5)"
   ]
  },
  {
   "cell_type": "code",
   "execution_count": null,
   "id": "eeb6ab12",
   "metadata": {},
   "outputs": [],
   "source": []
  }
 ],
 "metadata": {
  "kernelspec": {
   "display_name": "Python 3 (ipykernel)",
   "language": "python",
   "name": "python3"
  },
  "language_info": {
   "codemirror_mode": {
    "name": "ipython",
    "version": 3
   },
   "file_extension": ".py",
   "mimetype": "text/x-python",
   "name": "python",
   "nbconvert_exporter": "python",
   "pygments_lexer": "ipython3",
   "version": "3.9.7"
  }
 },
 "nbformat": 4,
 "nbformat_minor": 5
}
